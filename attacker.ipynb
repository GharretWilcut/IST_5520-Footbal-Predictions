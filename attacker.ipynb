{
 "cells": [
  {
   "cell_type": "markdown",
   "id": "697aff36",
   "metadata": {},
   "source": [
    "### First need to collect data from Kaggle"
   ]
  },
  {
   "cell_type": "code",
   "execution_count": 55,
   "id": "7ef196d6",
   "metadata": {},
   "outputs": [
    {
     "name": "stdout",
     "output_type": "stream",
     "text": [
      "Path to dataset files: C:\\Users\\gharr\\.cache\\kagglehub\\datasets\\philiphyde1\\nfl-stats-1999-2022\\versions\\17\n"
     ]
    }
   ],
   "source": [
    "import kagglehub\n",
    "\n",
    "# Download latest version\n",
    "path = kagglehub.dataset_download(\"philiphyde1/nfl-stats-1999-2022\")\n",
    "\n",
    "print(\"Path to dataset files:\", path)"
   ]
  },
  {
   "cell_type": "markdown",
   "id": "f10f9073",
   "metadata": {},
   "source": [
    "### Now need to remove unneeded columns"
   ]
  },
  {
   "cell_type": "code",
   "execution_count": 56,
   "id": "d09fcbfb",
   "metadata": {},
   "outputs": [
    {
     "name": "stdout",
     "output_type": "stream",
     "text": [
      "    player_id      player_name position  birth_year  draft_year  draft_round  \\\n",
      "0  00-0000865    Charlie Batch       QB        1974      1998.0          2.0   \n",
      "1  00-0004541    Donald Driver       WR        1975      1999.0          7.0   \n",
      "2  00-0006101    Tony Gonzalez       TE        1976      1997.0          1.0   \n",
      "3  00-0006101    Tony Gonzalez       TE        1976      1997.0          1.0   \n",
      "4  00-0007091  Matt Hasselbeck       QB        1975      1998.0          6.0   \n",
      "\n",
      "   draft_pick  draft_ovr  height  weight  ... delta_comp_pct  delta_int_pct  \\\n",
      "0        30.0       60.0    74.0   216.0  ...       0.220036           -1.0   \n",
      "1         7.0      213.0    72.0   194.0  ...       0.000000            NaN   \n",
      "2        13.0       13.0    77.0   247.0  ...       0.000000            0.0   \n",
      "3        13.0       13.0    77.0   247.0  ...       0.000000            NaN   \n",
      "4        34.0      187.0    76.0   235.0  ...       0.149281           -1.0   \n",
      "\n",
      "  delta_pass_td_pct delta_ypa delta_yptarget delta_ypr  delta_rush_td_pct  \\\n",
      "0              -1.0  0.025641       0.000000  0.000000                0.0   \n",
      "1               NaN  0.000000      -0.172028 -0.068732                0.0   \n",
      "2               0.0  0.000000       0.273859 -0.216170                0.0   \n",
      "3               NaN  0.000000      -0.165038  0.085776                0.0   \n",
      "4              -1.0 -0.162698       0.000000  0.000000               -1.0   \n",
      "\n",
      "   delta_ypc  delta_td_pct  delta_yptouch  \n",
      "0   0.000000     -0.909091      -0.388795  \n",
      "1   0.000000     49.000000       1.226852  \n",
      "2   0.000000      3.833333       0.236242  \n",
      "3   0.000000     -0.413793       0.085776  \n",
      "4  -0.337868      0.500000       0.250509  \n",
      "\n",
      "[5 rows x 660 columns]\n",
      "\n",
      "Column names (Python list):\n",
      "['player_id', 'player_name', 'position', 'birth_year', 'draft_year', 'draft_round', 'draft_pick', 'draft_ovr', 'height', 'weight', 'college', 'season', 'season_type', 'team', 'conference', 'division', 'shotgun', 'no_huddle', 'qb_dropback', 'qb_scramble', 'pass_attempts', 'complete_pass', 'incomplete_pass', 'passing_yards', 'receiving_yards', 'yards_after_catch', 'rush_attempts', 'rushing_yards', 'tackled_for_loss', 'first_down_pass', 'first_down_rush', 'third_down_converted', 'third_down_failed', 'fourth_down_converted', 'fourth_down_failed', 'rush_touchdown', 'pass_touchdown', 'safety', 'interception', 'fumble', 'fumble_lost', 'fumble_forced', 'fumble_not_forced', 'fumble_out_of_bounds', 'receptions', 'targets', 'passing_air_yards', 'receiving_air_yards', 'receiving_touchdown', 'pass_attempts_redzone', 'complete_pass_redzone', 'pass_touchdown_redzone', 'pass_attempts_gtg', 'complete_pass_gtg', 'pass_touchdown_gtg', 'receptions_redzone', 'targets_redzone', 'receiving_touchdown_redzone', 'receptions_gtg', 'targets_gtg', 'receiving_touchdown_gtg', 'rush_attempts_redzone', 'rush_touchdown_redzone', 'rush_attempts_gtg', 'rush_touchdown_gtg', 'fantasy_points_ppr', 'fantasy_points_standard', 'offense_snaps', 'team_offense_snaps', 'total_tds', 'touches', 'total_yards', 'depth_team', 'games_missed', 'offense_pct', 'age', 'years_exp', 'games_played_season', 'games_played_career', 'season_shotgun', 'season_no_huddle', 'season_qb_dropback', 'season_qb_scramble', 'season_pass_attempts', 'season_complete_pass', 'season_incomplete_pass', 'season_passing_yards', 'season_receiving_yards', 'season_yards_after_catch', 'season_rush_attempts', 'season_rushing_yards', 'season_tackled_for_loss', 'season_first_down_pass', 'season_first_down_rush', 'season_third_down_converted', 'season_third_down_failed', 'season_fourth_down_converted', 'season_fourth_down_failed', 'season_rush_touchdown', 'season_pass_touchdown', 'season_safety', 'season_interception', 'season_fumble', 'season_fumble_lost', 'season_fumble_forced', 'season_fumble_not_forced', 'season_fumble_out_of_bounds', 'season_receptions', 'season_targets', 'season_passing_air_yards', 'season_receiving_air_yards', 'season_receiving_touchdown', 'season_pass_attempts_redzone', 'season_complete_pass_redzone', 'season_pass_touchdown_redzone', 'season_pass_attempts_gtg', 'season_complete_pass_gtg', 'season_pass_touchdown_gtg', 'season_receptions_redzone', 'season_targets_redzone', 'season_receiving_touchdown_redzone', 'season_receptions_gtg', 'season_targets_gtg', 'season_receiving_touchdown_gtg', 'season_rush_attempts_redzone', 'season_rush_touchdown_redzone', 'season_rush_attempts_gtg', 'season_rush_touchdown_gtg', 'season_fantasy_points_ppr', 'season_fantasy_points_standard', 'season_offense_snaps', 'season_team_offense_snaps', 'season_total_tds', 'season_touches', 'season_total_yards', 'career_shotgun', 'career_no_huddle', 'career_qb_dropback', 'career_qb_scramble', 'career_pass_attempts', 'career_complete_pass', 'career_incomplete_pass', 'career_passing_yards', 'career_receiving_yards', 'career_yards_after_catch', 'career_rush_attempts', 'career_rushing_yards', 'career_tackled_for_loss', 'career_first_down_pass', 'career_first_down_rush', 'career_third_down_converted', 'career_third_down_failed', 'career_fourth_down_converted', 'career_fourth_down_failed', 'career_rush_touchdown', 'career_pass_touchdown', 'career_safety', 'career_interception', 'career_fumble', 'career_fumble_lost', 'career_fumble_forced', 'career_fumble_not_forced', 'career_fumble_out_of_bounds', 'career_receptions', 'career_targets', 'career_passing_air_yards', 'career_receiving_air_yards', 'career_receiving_touchdown', 'career_pass_attempts_redzone', 'career_complete_pass_redzone', 'career_pass_touchdown_redzone', 'career_pass_attempts_gtg', 'career_complete_pass_gtg', 'career_pass_touchdown_gtg', 'career_receptions_redzone', 'career_targets_redzone', 'career_receiving_touchdown_redzone', 'career_receptions_gtg', 'career_targets_gtg', 'career_receiving_touchdown_gtg', 'career_rush_attempts_redzone', 'career_rush_touchdown_redzone', 'career_rush_attempts_gtg', 'career_rush_touchdown_gtg', 'career_fantasy_points_ppr', 'career_fantasy_points_standard', 'career_offense_snaps', 'career_team_offense_snaps', 'career_total_tds', 'career_touches', 'career_total_yards', 'season_average_shotgun', 'career_average_shotgun', 'season_average_no_huddle', 'career_average_no_huddle', 'season_average_qb_dropback', 'career_average_qb_dropback', 'season_average_qb_scramble', 'career_average_qb_scramble', 'season_average_pass_attempts', 'career_average_pass_attempts', 'season_average_complete_pass', 'career_average_complete_pass', 'season_average_incomplete_pass', 'career_average_incomplete_pass', 'season_average_passing_yards', 'career_average_passing_yards', 'season_average_receiving_yards', 'career_average_receiving_yards', 'season_average_yards_after_catch', 'career_average_yards_after_catch', 'season_average_rush_attempts', 'career_average_rush_attempts', 'season_average_rushing_yards', 'career_average_rushing_yards', 'season_average_tackled_for_loss', 'career_average_tackled_for_loss', 'season_average_first_down_pass', 'career_average_first_down_pass', 'season_average_first_down_rush', 'career_average_first_down_rush', 'season_average_third_down_converted', 'career_average_third_down_converted', 'season_average_third_down_failed', 'career_average_third_down_failed', 'season_average_fourth_down_converted', 'career_average_fourth_down_converted', 'season_average_fourth_down_failed', 'career_average_fourth_down_failed', 'season_average_rush_touchdown', 'career_average_rush_touchdown', 'season_average_pass_touchdown', 'career_average_pass_touchdown', 'season_average_safety', 'career_average_safety', 'season_average_interception', 'career_average_interception', 'season_average_fumble', 'career_average_fumble', 'season_average_fumble_lost', 'career_average_fumble_lost', 'season_average_fumble_forced', 'career_average_fumble_forced', 'season_average_fumble_not_forced', 'career_average_fumble_not_forced', 'season_average_fumble_out_of_bounds', 'career_average_fumble_out_of_bounds', 'season_average_receptions', 'career_average_receptions', 'season_average_targets', 'career_average_targets', 'season_average_passing_air_yards', 'career_average_passing_air_yards', 'season_average_receiving_air_yards', 'career_average_receiving_air_yards', 'season_average_receiving_touchdown', 'career_average_receiving_touchdown', 'season_average_pass_attempts_redzone', 'career_average_pass_attempts_redzone', 'season_average_complete_pass_redzone', 'career_average_complete_pass_redzone', 'season_average_pass_touchdown_redzone', 'career_average_pass_touchdown_redzone', 'season_average_pass_attempts_gtg', 'career_average_pass_attempts_gtg', 'season_average_complete_pass_gtg', 'career_average_complete_pass_gtg', 'season_average_pass_touchdown_gtg', 'career_average_pass_touchdown_gtg', 'season_average_receptions_redzone', 'career_average_receptions_redzone', 'season_average_targets_redzone', 'career_average_targets_redzone', 'season_average_receiving_touchdown_redzone', 'career_average_receiving_touchdown_redzone', 'season_average_receptions_gtg', 'career_average_receptions_gtg', 'season_average_targets_gtg', 'career_average_targets_gtg', 'season_average_receiving_touchdown_gtg', 'career_average_receiving_touchdown_gtg', 'season_average_rush_attempts_redzone', 'career_average_rush_attempts_redzone', 'season_average_rush_touchdown_redzone', 'career_average_rush_touchdown_redzone', 'season_average_rush_attempts_gtg', 'career_average_rush_attempts_gtg', 'season_average_rush_touchdown_gtg', 'career_average_rush_touchdown_gtg', 'season_average_fantasy_points_ppr', 'career_average_fantasy_points_ppr', 'season_average_fantasy_points_standard', 'career_average_fantasy_points_standard', 'season_average_offense_snaps', 'career_average_offense_snaps', 'season_average_team_offense_snaps', 'career_average_team_offense_snaps', 'season_average_total_tds', 'career_average_total_tds', 'season_average_touches', 'career_average_touches', 'season_average_total_yards', 'career_average_total_yards', 'season_comp_pct', 'season_int_pct', 'season_pass_touchdown_pct', 'season_ypa', 'season_rec_td_pct', 'season_yptarget', 'season_ypr', 'season_rush_td_pct', 'season_ypc', 'season_td_pct', 'season_yptouch', 'season_pass_ypg', 'season_rec_ypg', 'season_rush_ypg', 'season_ypg', 'season_average_ppr_ppg', 'season_average_standard_ppg', 'career_comp_pct', 'career_int_pct', 'career_pass_touchdown_pct', 'career_ypa', 'career_rec_td_pct', 'career_yptarget', 'career_ypr', 'career_rush_td_pct', 'career_ypc', 'career_td_pct', 'career_yptouch', 'career_pass_ypg', 'career_rec_ypg', 'career_rush_ypg', 'career_ypg', 'career_average_ppr_ppg', 'career_average_standard_ppg', 'team_pass_attempts_share', 'team_complete_pass_share', 'team_passing_yards_share', 'team_pass_touchdown_share', 'team_targets_share', 'team_receptions_share', 'team_receiving_yards_share', 'team_receiving_air_yards_share', 'team_receiving_touchdown_share', 'team_rush_attempts_share', 'team_rushing_yards_share', 'team_rush_touchdown_share', 'passer_rating', 'adot', 'comp_pct', 'int_pct', 'pass_td_pct', 'ypa', 'rec_td_pct', 'yptarget', 'ayptarget', 'ypr', 'rush_td_pct', 'ypc', 'td_pct', 'yptouch', 'delta_pass_attempts', 'delta_complete_pass', 'delta_incomplete_pass', 'delta_passing_yards', 'delta_receiving_yards', 'delta_rush_attempts', 'delta_rush_touchdown', 'delta_rush_attempts_redzone', 'delta_rush_touchdown_redzone', 'delta_rush_attempts_gtg', 'delta_rush_touchdown_gtg', 'delta_fantasy_points_ppr', 'delta_fantasy_points_standard', 'delta_offense_snaps', 'delta_team_offense_snaps', 'delta_total_tds', 'delta_touches', 'delta_total_yards', 'delta_depth_team', 'delta_games_missed', 'delta_offense_pct', 'delta_years_exp', 'delta_season_shotgun', 'delta_season_no_huddle', 'delta_season_qb_dropback', 'delta_season_qb_scramble', 'delta_season_pass_attempts', 'delta_season_complete_pass', 'delta_season_incomplete_pass', 'delta_season_passing_yards', 'delta_season_receiving_yards', 'delta_season_yards_after_catch', 'delta_season_rush_attempts', 'delta_season_rushing_yards', 'delta_season_tackled_for_loss', 'delta_season_first_down_pass', 'delta_season_first_down_rush', 'delta_season_third_down_converted', 'delta_season_third_down_failed', 'delta_season_fourth_down_converted', 'delta_season_fourth_down_failed', 'delta_season_rush_touchdown', 'delta_season_pass_touchdown', 'delta_season_safety', 'delta_season_interception', 'delta_season_fumble', 'delta_season_fumble_lost', 'delta_season_fumble_forced', 'delta_season_fumble_not_forced', 'delta_season_fumble_out_of_bounds', 'delta_season_receptions', 'delta_season_targets', 'delta_season_passing_air_yards', 'delta_season_receiving_air_yards', 'delta_season_receiving_touchdown', 'delta_season_pass_attempts_redzone', 'delta_season_complete_pass_redzone', 'delta_season_pass_touchdown_redzone', 'delta_season_pass_attempts_gtg', 'delta_season_complete_pass_gtg', 'delta_season_pass_touchdown_gtg', 'delta_season_receptions_redzone', 'delta_season_targets_redzone', 'delta_season_receiving_touchdown_redzone', 'delta_season_receptions_gtg', 'delta_season_targets_gtg', 'delta_season_receiving_touchdown_gtg', 'delta_season_rush_attempts_redzone', 'delta_season_rush_touchdown_redzone', 'delta_season_rush_attempts_gtg', 'delta_season_rush_touchdown_gtg', 'delta_season_fantasy_points_ppr', 'delta_season_fantasy_points_standard', 'delta_season_offense_snaps', 'delta_season_team_offense_snaps', 'delta_season_total_tds', 'delta_season_touches', 'delta_season_total_yards', 'delta_career_shotgun', 'delta_career_no_huddle', 'delta_career_qb_dropback', 'delta_career_qb_scramble', 'delta_career_pass_attempts', 'delta_career_complete_pass', 'delta_career_incomplete_pass', 'delta_career_passing_yards', 'delta_career_receiving_yards', 'delta_career_yards_after_catch', 'delta_career_rush_attempts', 'delta_career_rushing_yards', 'delta_career_tackled_for_loss', 'delta_career_first_down_pass', 'delta_career_first_down_rush', 'delta_career_third_down_converted', 'delta_career_third_down_failed', 'delta_career_fourth_down_converted', 'delta_career_fourth_down_failed', 'delta_career_rush_touchdown', 'delta_career_pass_touchdown', 'delta_career_safety', 'delta_career_interception', 'delta_career_fumble', 'delta_career_fumble_lost', 'delta_career_fumble_forced', 'delta_career_fumble_not_forced', 'delta_career_fumble_out_of_bounds', 'delta_career_receptions', 'delta_career_targets', 'delta_career_passing_air_yards', 'delta_career_receiving_air_yards', 'delta_career_receiving_touchdown', 'delta_career_pass_attempts_redzone', 'delta_career_complete_pass_redzone', 'delta_career_pass_touchdown_redzone', 'delta_career_pass_attempts_gtg', 'delta_career_complete_pass_gtg', 'delta_career_pass_touchdown_gtg', 'delta_career_receptions_redzone', 'delta_career_targets_redzone', 'delta_career_receiving_touchdown_redzone', 'delta_career_receptions_gtg', 'delta_career_targets_gtg', 'delta_career_receiving_touchdown_gtg', 'delta_career_rush_attempts_redzone', 'delta_career_rush_touchdown_redzone', 'delta_career_rush_attempts_gtg', 'delta_career_rush_touchdown_gtg', 'delta_career_fantasy_points_ppr', 'delta_career_fantasy_points_standard', 'delta_career_offense_snaps', 'delta_career_team_offense_snaps', 'delta_career_total_tds', 'delta_career_touches', 'delta_career_total_yards', 'delta_season_average_shotgun', 'delta_career_average_shotgun', 'delta_season_average_no_huddle', 'delta_career_average_no_huddle', 'delta_season_average_qb_dropback', 'delta_career_average_qb_dropback', 'delta_season_average_qb_scramble', 'delta_career_average_qb_scramble', 'delta_season_average_pass_attempts', 'delta_career_average_pass_attempts', 'delta_season_average_complete_pass', 'delta_career_average_complete_pass', 'delta_season_average_incomplete_pass', 'delta_career_average_incomplete_pass', 'delta_season_average_passing_yards', 'delta_career_average_passing_yards', 'delta_season_average_receiving_yards', 'delta_career_average_receiving_yards', 'delta_season_average_yards_after_catch', 'delta_career_average_yards_after_catch', 'delta_season_average_rush_attempts', 'delta_career_average_rush_attempts', 'delta_season_average_rushing_yards', 'delta_career_average_rushing_yards', 'delta_season_average_tackled_for_loss', 'delta_career_average_tackled_for_loss', 'delta_season_average_first_down_pass', 'delta_career_average_first_down_pass', 'delta_season_average_first_down_rush', 'delta_career_average_first_down_rush', 'delta_season_average_third_down_converted', 'delta_career_average_third_down_converted', 'delta_season_average_third_down_failed', 'delta_career_average_third_down_failed', 'delta_season_average_fourth_down_converted', 'delta_career_average_fourth_down_converted', 'delta_season_average_fourth_down_failed', 'delta_career_average_fourth_down_failed', 'delta_season_average_rush_touchdown', 'delta_career_average_rush_touchdown', 'delta_season_average_pass_touchdown', 'delta_career_average_pass_touchdown', 'delta_season_average_safety', 'delta_career_average_safety', 'delta_season_average_interception', 'delta_career_average_interception', 'delta_season_average_fumble', 'delta_career_average_fumble', 'delta_season_average_fumble_lost', 'delta_career_average_fumble_lost', 'delta_season_average_fumble_forced', 'delta_career_average_fumble_forced', 'delta_season_average_fumble_not_forced', 'delta_career_average_fumble_not_forced', 'delta_season_average_fumble_out_of_bounds', 'delta_career_average_fumble_out_of_bounds', 'delta_season_average_receptions', 'delta_career_average_receptions', 'delta_season_average_targets', 'delta_career_average_targets', 'delta_season_average_passing_air_yards', 'delta_career_average_passing_air_yards', 'delta_season_average_receiving_air_yards', 'delta_career_average_receiving_air_yards', 'delta_season_average_receiving_touchdown', 'delta_career_average_receiving_touchdown', 'delta_season_average_pass_attempts_redzone', 'delta_career_average_pass_attempts_redzone', 'delta_season_average_complete_pass_redzone', 'delta_career_average_complete_pass_redzone', 'delta_season_average_pass_touchdown_redzone', 'delta_career_average_pass_touchdown_redzone', 'delta_season_average_pass_attempts_gtg', 'delta_career_average_pass_attempts_gtg', 'delta_season_average_complete_pass_gtg', 'delta_career_average_complete_pass_gtg', 'delta_season_average_pass_touchdown_gtg', 'delta_career_average_pass_touchdown_gtg', 'delta_season_average_receptions_redzone', 'delta_career_average_receptions_redzone', 'delta_season_average_targets_redzone', 'delta_career_average_targets_redzone', 'delta_season_average_receiving_touchdown_redzone', 'delta_career_average_receiving_touchdown_redzone', 'delta_season_average_receptions_gtg', 'delta_career_average_receptions_gtg', 'delta_season_average_targets_gtg', 'delta_career_average_targets_gtg', 'delta_season_average_receiving_touchdown_gtg', 'delta_career_average_receiving_touchdown_gtg', 'delta_season_average_rush_attempts_redzone', 'delta_career_average_rush_attempts_redzone', 'delta_season_average_rush_touchdown_redzone', 'delta_career_average_rush_touchdown_redzone', 'delta_season_average_rush_attempts_gtg', 'delta_career_average_rush_attempts_gtg', 'delta_season_average_rush_touchdown_gtg', 'delta_career_average_rush_touchdown_gtg', 'delta_season_average_fantasy_points_ppr', 'delta_career_average_fantasy_points_ppr', 'delta_season_average_fantasy_points_standard', 'delta_career_average_fantasy_points_standard', 'delta_season_average_offense_snaps', 'delta_career_average_offense_snaps', 'delta_season_average_team_offense_snaps', 'delta_career_average_team_offense_snaps', 'delta_season_average_total_tds', 'delta_career_average_total_tds', 'delta_season_average_touches', 'delta_career_average_touches', 'delta_season_average_total_yards', 'delta_career_average_total_yards', 'delta_season_comp_pct', 'delta_season_int_pct', 'delta_season_pass_touchdown_pct', 'delta_season_ypa', 'delta_season_rec_td_pct', 'delta_season_yptarget', 'delta_season_ypr', 'delta_season_rush_td_pct', 'delta_season_ypc', 'delta_season_td_pct', 'delta_season_yptouch', 'delta_season_pass_ypg', 'delta_season_rec_ypg', 'delta_season_rush_ypg', 'delta_season_ypg', 'delta_season_average_ppr_ppg', 'delta_season_average_standard_ppg', 'delta_career_comp_pct', 'delta_career_int_pct', 'delta_career_pass_touchdown_pct', 'delta_career_ypa', 'delta_career_rec_td_pct', 'delta_career_yptarget', 'delta_career_ypr', 'delta_career_rush_td_pct', 'delta_career_ypc', 'delta_career_td_pct', 'delta_career_yptouch', 'delta_career_pass_ypg', 'delta_career_rec_ypg', 'delta_career_rush_ypg', 'delta_career_ypg', 'delta_career_average_ppr_ppg', 'delta_career_average_standard_ppg', 'delta_team_pass_attempts_share', 'delta_team_complete_pass_share', 'delta_team_passing_yards_share', 'delta_team_receiving_yards_share', 'delta_team_rush_attempts_share', 'delta_team_rush_touchdown_share', 'delta_passer_rating', 'delta_comp_pct', 'delta_int_pct', 'delta_pass_td_pct', 'delta_ypa', 'delta_yptarget', 'delta_ypr', 'delta_rush_td_pct', 'delta_ypc', 'delta_td_pct', 'delta_yptouch']\n"
     ]
    }
   ],
   "source": [
    "import pandas as pd \n",
    "path = path.replace(\"\\\\\", \"/\")  # For Windows compatibility\n",
    "df = pd.read_csv(f\"{path}\\\\yearly_player_stats_offense.csv\")\n",
    "\n",
    "print(df.head())\n",
    "column_names_list = df.columns.tolist()\n",
    "print(\"\\nColumn names (Python list):\")\n",
    "print(column_names_list)\n",
    "\n"
   ]
  },
  {
   "cell_type": "markdown",
   "id": "747dfc19",
   "metadata": {},
   "source": [
    "### isolate positions"
   ]
  },
  {
   "cell_type": "code",
   "execution_count": 57,
   "id": "ca985bcf",
   "metadata": {},
   "outputs": [
    {
     "name": "stdout",
     "output_type": "stream",
     "text": [
      "     player_id      player_name position  birth_year  draft_year  draft_round  \\\n",
      "0   00-0000865    Charlie Batch       QB        1974      1998.0          2.0   \n",
      "4   00-0007091  Matt Hasselbeck       QB        1975      1998.0          6.0   \n",
      "5   00-0010346   Peyton Manning       QB        1976      1998.0          1.0   \n",
      "6   00-0010346   Peyton Manning       QB        1976      1998.0          1.0   \n",
      "11  00-0019596        Tom Brady       QB        1977      2000.0          6.0   \n",
      "\n",
      "    draft_pick  draft_ovr  height  weight  ... delta_comp_pct  delta_int_pct  \\\n",
      "0         30.0       60.0    74.0   216.0  ...       0.220036      -1.000000   \n",
      "4         34.0      187.0    76.0   235.0  ...       0.149281      -1.000000   \n",
      "5          1.0        1.0    77.0   230.0  ...       0.000000       0.000000   \n",
      "6          1.0        1.0    77.0   230.0  ...       0.023426      -0.612245   \n",
      "11        33.0      199.0    76.0   225.0  ...       0.000000      -1.000000   \n",
      "\n",
      "   delta_pass_td_pct delta_ypa delta_yptarget delta_ypr  delta_rush_td_pct  \\\n",
      "0          -1.000000  0.025641            0.0       0.0                0.0   \n",
      "4          -1.000000 -0.162698            0.0       0.0               -1.0   \n",
      "5           0.000000  0.000000            0.0       0.0               -1.0   \n",
      "6          -0.109589  0.152758            0.0       0.0                NaN   \n",
      "11         -1.000000  0.000000            0.0       0.0               -1.0   \n",
      "\n",
      "    delta_ypc  delta_td_pct  delta_yptouch  \n",
      "0    0.000000     -0.909091      -0.388795  \n",
      "4   -0.337868      0.500000       0.250509  \n",
      "5   -1.274725      6.000000       0.782383  \n",
      "6   -1.260000     -0.142857       0.139535  \n",
      "11  -0.612245      0.000000      -0.401702  \n",
      "\n",
      "[5 rows x 660 columns]\n"
     ]
    }
   ],
   "source": [
    "#need to have players that are only qb,wr,rb \n",
    "df_QB = df[df['position'].isin(['QB'])]\n",
    "df_WR = df[df['position'].isin(['WR'])]\n",
    "df_RB = df[df['position'].isin(['RB'])] \n",
    "\n",
    "print(df_QB.head())"
   ]
  },
  {
   "cell_type": "code",
   "execution_count": 58,
   "id": "1121df1f",
   "metadata": {},
   "outputs": [],
   "source": [
    "df_QB['fantasy_points_standard'].isna().sum()\n",
    "df_RB['fantasy_points_ppr'].isna().sum()\n",
    "df_WR['fantasy_points_ppr'].isna().sum()\n",
    "target_columns = ['fantasy_points_standard', 'fantasy_points_ppr', 'fantasy_points_half_ppr']\n"
   ]
  },
  {
   "cell_type": "code",
   "execution_count": null,
   "id": "1732679e",
   "metadata": {},
   "outputs": [],
   "source": []
  },
  {
   "cell_type": "code",
   "execution_count": 60,
   "id": "cff5baee",
   "metadata": {},
   "outputs": [
    {
     "name": "stdout",
     "output_type": "stream",
     "text": [
      "  position   age  years_exp  height  weight team  depth_team  offense_pct  \\\n",
      "0       QB  37.0       14.0    74.0   216.0  PIT         3.0     1.000000   \n",
      "1       WR  37.0       13.0    72.0   194.0   GB         2.0     0.190852   \n",
      "2       TE  36.0       15.0    77.0   247.0  ATL         1.0     0.945736   \n",
      "3       TE  36.0       15.0    77.0   247.0  ATL         1.0     0.911321   \n",
      "4       QB  36.0       14.0    76.0   235.0  TEN         2.0     0.774510   \n",
      "\n",
      "   team_offense_snaps  yptarget  ...  receiving_touchdown_pg  total_tds_pg  \\\n",
      "0               129.0       NaN  ...                0.000000      0.333333   \n",
      "1               634.0      5.92  ...                0.200000      0.400000   \n",
      "2               129.0      9.21  ...                0.125000      0.250000   \n",
      "3              1060.0      7.69  ...                0.470588      0.941176   \n",
      "4               510.0       NaN  ...                0.000000      0.777778   \n",
      "\n",
      "   rush_attempts_pg  rush_attempts_redzone_pg  targets_redzone_pg  \\\n",
      "0          0.000000                  0.000000            0.000000   \n",
      "1          0.000000                  0.000000            0.300000   \n",
      "2          0.000000                  0.000000            0.187500   \n",
      "3          0.000000                  0.000000            0.941176   \n",
      "4          1.444444                  0.111111            0.000000   \n",
      "\n",
      "   delta_touches_pg  delta_total_yards_pg  delta_rush_touchdown_pg  \\\n",
      "0          0.888889              0.413522                      NaN   \n",
      "1         -0.093220             -0.084902                -0.100000   \n",
      "2         -0.061158             -0.060841                -0.062500   \n",
      "3          0.331933              0.365253                      NaN   \n",
      "4         -0.023973             -0.002247                -0.111111   \n",
      "\n",
      "   delta_receiving_yards_pg  delta_offense_snaps_pg  \n",
      "0                 -0.333333               -0.188063  \n",
      "1                 -0.017204               -0.059532  \n",
      "2                  0.000000               -0.056224  \n",
      "3                  0.365253                0.406943  \n",
      "4                 -0.111111               -0.047779  \n",
      "\n",
      "[5 rows x 41 columns]\n"
     ]
    }
   ],
   "source": [
    "import pandas as pd\n",
    "\n",
    "# Example: start with your existing df\n",
    "# df = pd.read_csv(\"player_stats.csv\")\n",
    "\n",
    "# If not already present:\n",
    "df[\"games_played\"] = 17 - df[\"games_missed\"]\n",
    "\n",
    "# Avoid divide-by-zero\n",
    "df[\"games_played\"] = df[\"games_played\"].replace(0, pd.NA)\n",
    "\n",
    "# Features to normalize (totals)\n",
    "to_normalize = [\n",
    "    \"offense_snaps\", \"touches\", \"targets\", \"receptions\",\n",
    "    \"rushing_yards\", \"receiving_yards\", \"yards_after_catch\", \"total_yards\",\n",
    "    \"rush_touchdown\", \"receiving_touchdown\", \"total_tds\",\n",
    "    \"rush_attempts\", \"rush_attempts_redzone\", \"targets_redzone\",\n",
    "    \"delta_touches\", \"delta_total_yards\", \"delta_rush_touchdown\",\n",
    "    \"delta_receiving_yards\", \"delta_offense_snaps\"\n",
    "]\n",
    "\n",
    "# Create new per-game versions\n",
    "for col in to_normalize:\n",
    "    df[f\"{col}_pg\"] = df[col] / df[\"games_played\"]\n",
    "\n",
    "# Keep static / rate-based features as-is\n",
    "static_features = [\n",
    "    \"position\", \"age\", \"years_exp\", \"height\", \"weight\",\n",
    "    \"team\", \"depth_team\",\n",
    "    \"offense_pct\", \"team_offense_snaps\",\n",
    "    \"yptarget\", \"yptouch\", \"ypc\", \"ypr\",\n",
    "    \"rec_td_pct\", \"rush_td_pct\", \"td_pct\",\n",
    "    \"team_targets_share\", \"team_rush_attempts_share\", \"team_receiving_yards_share\",\n",
    "    \"games_missed\",'fantasy_points_standard','fantasy_points_ppr',\n",
    "]\n",
    "\n",
    "# Combine everything into a new averaged feature DataFrame\n",
    "avg_features = df[[*static_features, *[f\"{c}_pg\" for c in to_normalize]]].copy()\n",
    "\n",
    "# Optionally inspect\n",
    "print(avg_features.head())\n"
   ]
  },
  {
   "cell_type": "code",
   "execution_count": 62,
   "id": "340dae4c",
   "metadata": {},
   "outputs": [],
   "source": [
    "#now time to use these features to predict fantasy points for qbs, wrs, rbs\n",
    "target_columns = ['fantasy_points_standard', 'fantasy_points_ppr',]   \n",
    "\n",
    "df_QB_targets = df_QB[target_columns]\n",
    "df_RB_targets = df_RB[target_columns]       \n",
    "df_WR_targets = df_WR[target_columns]\n",
    "\n",
    "#need to target each position separately "
   ]
  },
  {
   "cell_type": "code",
   "execution_count": 65,
   "id": "c2d086f4",
   "metadata": {},
   "outputs": [
    {
     "name": "stdout",
     "output_type": "stream",
     "text": [
      "Index(['age', 'years_exp', 'height', 'weight', 'offense_pct',\n",
      "       'team_offense_snaps', 'yptarget', 'yptouch', 'ypc', 'ypr', 'rec_td_pct',\n",
      "       'rush_td_pct', 'td_pct', 'team_targets_share',\n",
      "       'team_rush_attempts_share', 'team_receiving_yards_share',\n",
      "       'games_missed', 'offense_snaps_pg', 'touches_pg', 'targets_pg',\n",
      "       'receptions_pg', 'rushing_yards_pg', 'receiving_yards_pg',\n",
      "       'yards_after_catch_pg', 'total_yards_pg', 'rush_touchdown_pg',\n",
      "       'receiving_touchdown_pg', 'total_tds_pg', 'rush_attempts_pg',\n",
      "       'rush_attempts_redzone_pg', 'targets_redzone_pg', 'delta_touches_pg',\n",
      "       'delta_total_yards_pg', 'delta_rush_touchdown_pg',\n",
      "       'delta_receiving_yards_pg', 'delta_offense_snaps_pg'],\n",
      "      dtype='object')\n",
      "📊 Quarterback model performance:\n",
      "MAE: 9.77\n",
      "R²: 0.99\n",
      "\n",
      "Index(['age', 'years_exp', 'height', 'weight', 'offense_pct',\n",
      "       'team_offense_snaps', 'yptarget', 'yptouch', 'ypc', 'ypr', 'rec_td_pct',\n",
      "       'rush_td_pct', 'td_pct', 'team_targets_share',\n",
      "       'team_rush_attempts_share', 'team_receiving_yards_share',\n",
      "       'games_missed', 'offense_snaps_pg', 'touches_pg', 'targets_pg',\n",
      "       'receptions_pg', 'rushing_yards_pg', 'receiving_yards_pg',\n",
      "       'yards_after_catch_pg', 'total_yards_pg', 'rush_touchdown_pg',\n",
      "       'receiving_touchdown_pg', 'total_tds_pg', 'rush_attempts_pg',\n",
      "       'rush_attempts_redzone_pg', 'targets_redzone_pg', 'delta_touches_pg',\n",
      "       'delta_total_yards_pg', 'delta_rush_touchdown_pg',\n",
      "       'delta_receiving_yards_pg', 'delta_offense_snaps_pg'],\n",
      "      dtype='object')\n",
      "📊 Wide Receiver model performance:\n",
      "MAE: 4.69\n",
      "R²: 0.98\n",
      "\n",
      "Index(['age', 'years_exp', 'height', 'weight', 'offense_pct',\n",
      "       'team_offense_snaps', 'yptarget', 'yptouch', 'ypc', 'ypr', 'rec_td_pct',\n",
      "       'rush_td_pct', 'td_pct', 'team_targets_share',\n",
      "       'team_rush_attempts_share', 'team_receiving_yards_share',\n",
      "       'games_missed', 'offense_snaps_pg', 'touches_pg', 'targets_pg',\n",
      "       'receptions_pg', 'rushing_yards_pg', 'receiving_yards_pg',\n",
      "       'yards_after_catch_pg', 'total_yards_pg', 'rush_touchdown_pg',\n",
      "       'receiving_touchdown_pg', 'total_tds_pg', 'rush_attempts_pg',\n",
      "       'rush_attempts_redzone_pg', 'targets_redzone_pg', 'delta_touches_pg',\n",
      "       'delta_total_yards_pg', 'delta_rush_touchdown_pg',\n",
      "       'delta_receiving_yards_pg', 'delta_offense_snaps_pg'],\n",
      "      dtype='object')\n",
      "📊 Running Back model performance:\n",
      "MAE: 5.54\n",
      "R²: 0.97\n",
      "\n"
     ]
    }
   ],
   "source": [
    "import pandas as pd\n",
    "from sklearn.model_selection import train_test_split\n",
    "from sklearn.preprocessing import StandardScaler\n",
    "from sklearn.ensemble import RandomForestRegressor\n",
    "from sklearn.metrics import mean_absolute_error, r2_score\n",
    "\n",
    "# Example split by position\n",
    "df_QB = avg_features[avg_features['position'] == 'QB'].copy()\n",
    "df_WR = avg_features[avg_features['position'] == 'WR'].copy()\n",
    "df_RB = avg_features[avg_features['position'] == 'RB'].copy()\n",
    "\n",
    "# Define your target\n",
    "target = 'fantasy_points_standard'  # Replace this with your actual target column\n",
    "\n",
    "# Define features — exclude target and identifiers\n",
    "features = [col for col in avg_features.columns if col not in ['position', 'team', 'depth_team', target,'fantasy_points_ppr', 'fantasy_points_half_ppr']]\n",
    "\n",
    "# Function to train model for a given position\n",
    "def train_position_model(df_position, position_name):\n",
    "    # Drop rows missing the target\n",
    "    df_position = df_position.dropna(subset=[target])\n",
    "    \n",
    "    X = df_position[features]\n",
    "    print(X.columns)\n",
    "    y = df_position[target]\n",
    "    \n",
    "    # Handle categorical variables\n",
    "    X = pd.get_dummies(X, drop_first=True)\n",
    "    \n",
    "    # Split\n",
    "    X_train, X_test, y_train, y_test = train_test_split(X, y, test_size=0.3, random_state=42)\n",
    "    \n",
    "    # Normalize\n",
    "    scaler = StandardScaler()\n",
    "    X_train_scaled = scaler.fit_transform(X_train)\n",
    "    X_test_scaled = scaler.transform(X_test)\n",
    "    \n",
    "    # Model (Random Forest for example)\n",
    "    model = RandomForestRegressor(n_estimators=200, random_state=42)\n",
    "    model.fit(X_train_scaled, y_train)\n",
    "    \n",
    "    # Evaluate\n",
    "    y_pred = model.predict(X_test_scaled)\n",
    "    mae = mean_absolute_error(y_test, y_pred)\n",
    "    r2 = r2_score(y_test, y_pred)\n",
    "    \n",
    "    print(f\"📊 {position_name} model performance:\")\n",
    "    print(f\"MAE: {mae:.2f}\")\n",
    "    print(f\"R²: {r2:.2f}\\n\")\n",
    "    \n",
    "    return model, scaler\n",
    "\n",
    "# Train all three\n",
    "QB_model, QB_scaler = train_position_model(df_QB, \"Quarterback\")\n",
    "WR_model, WR_scaler = train_position_model(df_WR, \"Wide Receiver\")\n",
    "RB_model, RB_scaler = train_position_model(df_RB, \"Running Back\")\n"
   ]
  },
  {
   "cell_type": "code",
   "execution_count": 64,
   "id": "c6d3b7fe",
   "metadata": {},
   "outputs": [
    {
     "name": "stdout",
     "output_type": "stream",
     "text": [
      "61.81536962750717\n"
     ]
    }
   ],
   "source": [
    "print(df_RB.fantasy_points_standard.mean())"
   ]
  }
 ],
 "metadata": {
  "kernelspec": {
   "display_name": "Python 3",
   "language": "python",
   "name": "python3"
  },
  "language_info": {
   "codemirror_mode": {
    "name": "ipython",
    "version": 3
   },
   "file_extension": ".py",
   "mimetype": "text/x-python",
   "name": "python",
   "nbconvert_exporter": "python",
   "pygments_lexer": "ipython3",
   "version": "3.11.9"
  }
 },
 "nbformat": 4,
 "nbformat_minor": 5
}
