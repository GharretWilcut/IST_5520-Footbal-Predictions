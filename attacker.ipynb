{
 "cells": [
  {
   "cell_type": "markdown",
   "id": "697aff36",
   "metadata": {},
   "source": [
    "### First need to collect data from Kaggle"
   ]
  },
  {
   "cell_type": "code",
   "execution_count": 11,
   "id": "7ef196d6",
   "metadata": {},
   "outputs": [
    {
     "name": "stdout",
     "output_type": "stream",
     "text": [
      "Path to dataset files: C:\\Users\\gharr\\.cache\\kagglehub\\datasets\\philiphyde1\\nfl-stats-1999-2022\\versions\\17\n"
     ]
    }
   ],
   "source": [
    "import kagglehub\n",
    "\n",
    "# Download latest version\n",
    "path = kagglehub.dataset_download(\"philiphyde1/nfl-stats-1999-2022\")\n",
    "\n",
    "print(\"Path to dataset files:\", path)"
   ]
  },
  {
   "cell_type": "markdown",
   "id": "f10f9073",
   "metadata": {},
   "source": [
    "### Now need to remove unneeded columns"
   ]
  },
  {
   "cell_type": "code",
   "execution_count": 12,
   "id": "d09fcbfb",
   "metadata": {},
   "outputs": [
    {
     "name": "stdout",
     "output_type": "stream",
     "text": [
      "    player_id      player_name position  birth_year  draft_year  draft_round  \\\n",
      "0  00-0000865    Charlie Batch       QB        1974      1998.0          2.0   \n",
      "1  00-0004541    Donald Driver       WR        1975      1999.0          7.0   \n",
      "2  00-0006101    Tony Gonzalez       TE        1976      1997.0          1.0   \n",
      "3  00-0006101    Tony Gonzalez       TE        1976      1997.0          1.0   \n",
      "4  00-0007091  Matt Hasselbeck       QB        1975      1998.0          6.0   \n",
      "\n",
      "   draft_pick  draft_ovr  height  weight  ... delta_comp_pct  delta_int_pct  \\\n",
      "0        30.0       60.0    74.0   216.0  ...       0.220036           -1.0   \n",
      "1         7.0      213.0    72.0   194.0  ...       0.000000            NaN   \n",
      "2        13.0       13.0    77.0   247.0  ...       0.000000            0.0   \n",
      "3        13.0       13.0    77.0   247.0  ...       0.000000            NaN   \n",
      "4        34.0      187.0    76.0   235.0  ...       0.149281           -1.0   \n",
      "\n",
      "  delta_pass_td_pct delta_ypa delta_yptarget delta_ypr  delta_rush_td_pct  \\\n",
      "0              -1.0  0.025641       0.000000  0.000000                0.0   \n",
      "1               NaN  0.000000      -0.172028 -0.068732                0.0   \n",
      "2               0.0  0.000000       0.273859 -0.216170                0.0   \n",
      "3               NaN  0.000000      -0.165038  0.085776                0.0   \n",
      "4              -1.0 -0.162698       0.000000  0.000000               -1.0   \n",
      "\n",
      "   delta_ypc  delta_td_pct  delta_yptouch  \n",
      "0   0.000000     -0.909091      -0.388795  \n",
      "1   0.000000     49.000000       1.226852  \n",
      "2   0.000000      3.833333       0.236242  \n",
      "3   0.000000     -0.413793       0.085776  \n",
      "4  -0.337868      0.500000       0.250509  \n",
      "\n",
      "[5 rows x 660 columns]\n",
      "\n",
      "Column names (Python list):\n",
      "['player_id', 'player_name', 'position', 'birth_year', 'draft_year', 'draft_round', 'draft_pick', 'draft_ovr', 'height', 'weight', 'college', 'season', 'season_type', 'team', 'conference', 'division', 'shotgun', 'no_huddle', 'qb_dropback', 'qb_scramble', 'pass_attempts', 'complete_pass', 'incomplete_pass', 'passing_yards', 'receiving_yards', 'yards_after_catch', 'rush_attempts', 'rushing_yards', 'tackled_for_loss', 'first_down_pass', 'first_down_rush', 'third_down_converted', 'third_down_failed', 'fourth_down_converted', 'fourth_down_failed', 'rush_touchdown', 'pass_touchdown', 'safety', 'interception', 'fumble', 'fumble_lost', 'fumble_forced', 'fumble_not_forced', 'fumble_out_of_bounds', 'receptions', 'targets', 'passing_air_yards', 'receiving_air_yards', 'receiving_touchdown', 'pass_attempts_redzone', 'complete_pass_redzone', 'pass_touchdown_redzone', 'pass_attempts_gtg', 'complete_pass_gtg', 'pass_touchdown_gtg', 'receptions_redzone', 'targets_redzone', 'receiving_touchdown_redzone', 'receptions_gtg', 'targets_gtg', 'receiving_touchdown_gtg', 'rush_attempts_redzone', 'rush_touchdown_redzone', 'rush_attempts_gtg', 'rush_touchdown_gtg', 'fantasy_points_ppr', 'fantasy_points_standard', 'offense_snaps', 'team_offense_snaps', 'total_tds', 'touches', 'total_yards', 'depth_team', 'games_missed', 'offense_pct', 'age', 'years_exp', 'games_played_season', 'games_played_career', 'season_shotgun', 'season_no_huddle', 'season_qb_dropback', 'season_qb_scramble', 'season_pass_attempts', 'season_complete_pass', 'season_incomplete_pass', 'season_passing_yards', 'season_receiving_yards', 'season_yards_after_catch', 'season_rush_attempts', 'season_rushing_yards', 'season_tackled_for_loss', 'season_first_down_pass', 'season_first_down_rush', 'season_third_down_converted', 'season_third_down_failed', 'season_fourth_down_converted', 'season_fourth_down_failed', 'season_rush_touchdown', 'season_pass_touchdown', 'season_safety', 'season_interception', 'season_fumble', 'season_fumble_lost', 'season_fumble_forced', 'season_fumble_not_forced', 'season_fumble_out_of_bounds', 'season_receptions', 'season_targets', 'season_passing_air_yards', 'season_receiving_air_yards', 'season_receiving_touchdown', 'season_pass_attempts_redzone', 'season_complete_pass_redzone', 'season_pass_touchdown_redzone', 'season_pass_attempts_gtg', 'season_complete_pass_gtg', 'season_pass_touchdown_gtg', 'season_receptions_redzone', 'season_targets_redzone', 'season_receiving_touchdown_redzone', 'season_receptions_gtg', 'season_targets_gtg', 'season_receiving_touchdown_gtg', 'season_rush_attempts_redzone', 'season_rush_touchdown_redzone', 'season_rush_attempts_gtg', 'season_rush_touchdown_gtg', 'season_fantasy_points_ppr', 'season_fantasy_points_standard', 'season_offense_snaps', 'season_team_offense_snaps', 'season_total_tds', 'season_touches', 'season_total_yards', 'career_shotgun', 'career_no_huddle', 'career_qb_dropback', 'career_qb_scramble', 'career_pass_attempts', 'career_complete_pass', 'career_incomplete_pass', 'career_passing_yards', 'career_receiving_yards', 'career_yards_after_catch', 'career_rush_attempts', 'career_rushing_yards', 'career_tackled_for_loss', 'career_first_down_pass', 'career_first_down_rush', 'career_third_down_converted', 'career_third_down_failed', 'career_fourth_down_converted', 'career_fourth_down_failed', 'career_rush_touchdown', 'career_pass_touchdown', 'career_safety', 'career_interception', 'career_fumble', 'career_fumble_lost', 'career_fumble_forced', 'career_fumble_not_forced', 'career_fumble_out_of_bounds', 'career_receptions', 'career_targets', 'career_passing_air_yards', 'career_receiving_air_yards', 'career_receiving_touchdown', 'career_pass_attempts_redzone', 'career_complete_pass_redzone', 'career_pass_touchdown_redzone', 'career_pass_attempts_gtg', 'career_complete_pass_gtg', 'career_pass_touchdown_gtg', 'career_receptions_redzone', 'career_targets_redzone', 'career_receiving_touchdown_redzone', 'career_receptions_gtg', 'career_targets_gtg', 'career_receiving_touchdown_gtg', 'career_rush_attempts_redzone', 'career_rush_touchdown_redzone', 'career_rush_attempts_gtg', 'career_rush_touchdown_gtg', 'career_fantasy_points_ppr', 'career_fantasy_points_standard', 'career_offense_snaps', 'career_team_offense_snaps', 'career_total_tds', 'career_touches', 'career_total_yards', 'season_average_shotgun', 'career_average_shotgun', 'season_average_no_huddle', 'career_average_no_huddle', 'season_average_qb_dropback', 'career_average_qb_dropback', 'season_average_qb_scramble', 'career_average_qb_scramble', 'season_average_pass_attempts', 'career_average_pass_attempts', 'season_average_complete_pass', 'career_average_complete_pass', 'season_average_incomplete_pass', 'career_average_incomplete_pass', 'season_average_passing_yards', 'career_average_passing_yards', 'season_average_receiving_yards', 'career_average_receiving_yards', 'season_average_yards_after_catch', 'career_average_yards_after_catch', 'season_average_rush_attempts', 'career_average_rush_attempts', 'season_average_rushing_yards', 'career_average_rushing_yards', 'season_average_tackled_for_loss', 'career_average_tackled_for_loss', 'season_average_first_down_pass', 'career_average_first_down_pass', 'season_average_first_down_rush', 'career_average_first_down_rush', 'season_average_third_down_converted', 'career_average_third_down_converted', 'season_average_third_down_failed', 'career_average_third_down_failed', 'season_average_fourth_down_converted', 'career_average_fourth_down_converted', 'season_average_fourth_down_failed', 'career_average_fourth_down_failed', 'season_average_rush_touchdown', 'career_average_rush_touchdown', 'season_average_pass_touchdown', 'career_average_pass_touchdown', 'season_average_safety', 'career_average_safety', 'season_average_interception', 'career_average_interception', 'season_average_fumble', 'career_average_fumble', 'season_average_fumble_lost', 'career_average_fumble_lost', 'season_average_fumble_forced', 'career_average_fumble_forced', 'season_average_fumble_not_forced', 'career_average_fumble_not_forced', 'season_average_fumble_out_of_bounds', 'career_average_fumble_out_of_bounds', 'season_average_receptions', 'career_average_receptions', 'season_average_targets', 'career_average_targets', 'season_average_passing_air_yards', 'career_average_passing_air_yards', 'season_average_receiving_air_yards', 'career_average_receiving_air_yards', 'season_average_receiving_touchdown', 'career_average_receiving_touchdown', 'season_average_pass_attempts_redzone', 'career_average_pass_attempts_redzone', 'season_average_complete_pass_redzone', 'career_average_complete_pass_redzone', 'season_average_pass_touchdown_redzone', 'career_average_pass_touchdown_redzone', 'season_average_pass_attempts_gtg', 'career_average_pass_attempts_gtg', 'season_average_complete_pass_gtg', 'career_average_complete_pass_gtg', 'season_average_pass_touchdown_gtg', 'career_average_pass_touchdown_gtg', 'season_average_receptions_redzone', 'career_average_receptions_redzone', 'season_average_targets_redzone', 'career_average_targets_redzone', 'season_average_receiving_touchdown_redzone', 'career_average_receiving_touchdown_redzone', 'season_average_receptions_gtg', 'career_average_receptions_gtg', 'season_average_targets_gtg', 'career_average_targets_gtg', 'season_average_receiving_touchdown_gtg', 'career_average_receiving_touchdown_gtg', 'season_average_rush_attempts_redzone', 'career_average_rush_attempts_redzone', 'season_average_rush_touchdown_redzone', 'career_average_rush_touchdown_redzone', 'season_average_rush_attempts_gtg', 'career_average_rush_attempts_gtg', 'season_average_rush_touchdown_gtg', 'career_average_rush_touchdown_gtg', 'season_average_fantasy_points_ppr', 'career_average_fantasy_points_ppr', 'season_average_fantasy_points_standard', 'career_average_fantasy_points_standard', 'season_average_offense_snaps', 'career_average_offense_snaps', 'season_average_team_offense_snaps', 'career_average_team_offense_snaps', 'season_average_total_tds', 'career_average_total_tds', 'season_average_touches', 'career_average_touches', 'season_average_total_yards', 'career_average_total_yards', 'season_comp_pct', 'season_int_pct', 'season_pass_touchdown_pct', 'season_ypa', 'season_rec_td_pct', 'season_yptarget', 'season_ypr', 'season_rush_td_pct', 'season_ypc', 'season_td_pct', 'season_yptouch', 'season_pass_ypg', 'season_rec_ypg', 'season_rush_ypg', 'season_ypg', 'season_average_ppr_ppg', 'season_average_standard_ppg', 'career_comp_pct', 'career_int_pct', 'career_pass_touchdown_pct', 'career_ypa', 'career_rec_td_pct', 'career_yptarget', 'career_ypr', 'career_rush_td_pct', 'career_ypc', 'career_td_pct', 'career_yptouch', 'career_pass_ypg', 'career_rec_ypg', 'career_rush_ypg', 'career_ypg', 'career_average_ppr_ppg', 'career_average_standard_ppg', 'team_pass_attempts_share', 'team_complete_pass_share', 'team_passing_yards_share', 'team_pass_touchdown_share', 'team_targets_share', 'team_receptions_share', 'team_receiving_yards_share', 'team_receiving_air_yards_share', 'team_receiving_touchdown_share', 'team_rush_attempts_share', 'team_rushing_yards_share', 'team_rush_touchdown_share', 'passer_rating', 'adot', 'comp_pct', 'int_pct', 'pass_td_pct', 'ypa', 'rec_td_pct', 'yptarget', 'ayptarget', 'ypr', 'rush_td_pct', 'ypc', 'td_pct', 'yptouch', 'delta_pass_attempts', 'delta_complete_pass', 'delta_incomplete_pass', 'delta_passing_yards', 'delta_receiving_yards', 'delta_rush_attempts', 'delta_rush_touchdown', 'delta_rush_attempts_redzone', 'delta_rush_touchdown_redzone', 'delta_rush_attempts_gtg', 'delta_rush_touchdown_gtg', 'delta_fantasy_points_ppr', 'delta_fantasy_points_standard', 'delta_offense_snaps', 'delta_team_offense_snaps', 'delta_total_tds', 'delta_touches', 'delta_total_yards', 'delta_depth_team', 'delta_games_missed', 'delta_offense_pct', 'delta_years_exp', 'delta_season_shotgun', 'delta_season_no_huddle', 'delta_season_qb_dropback', 'delta_season_qb_scramble', 'delta_season_pass_attempts', 'delta_season_complete_pass', 'delta_season_incomplete_pass', 'delta_season_passing_yards', 'delta_season_receiving_yards', 'delta_season_yards_after_catch', 'delta_season_rush_attempts', 'delta_season_rushing_yards', 'delta_season_tackled_for_loss', 'delta_season_first_down_pass', 'delta_season_first_down_rush', 'delta_season_third_down_converted', 'delta_season_third_down_failed', 'delta_season_fourth_down_converted', 'delta_season_fourth_down_failed', 'delta_season_rush_touchdown', 'delta_season_pass_touchdown', 'delta_season_safety', 'delta_season_interception', 'delta_season_fumble', 'delta_season_fumble_lost', 'delta_season_fumble_forced', 'delta_season_fumble_not_forced', 'delta_season_fumble_out_of_bounds', 'delta_season_receptions', 'delta_season_targets', 'delta_season_passing_air_yards', 'delta_season_receiving_air_yards', 'delta_season_receiving_touchdown', 'delta_season_pass_attempts_redzone', 'delta_season_complete_pass_redzone', 'delta_season_pass_touchdown_redzone', 'delta_season_pass_attempts_gtg', 'delta_season_complete_pass_gtg', 'delta_season_pass_touchdown_gtg', 'delta_season_receptions_redzone', 'delta_season_targets_redzone', 'delta_season_receiving_touchdown_redzone', 'delta_season_receptions_gtg', 'delta_season_targets_gtg', 'delta_season_receiving_touchdown_gtg', 'delta_season_rush_attempts_redzone', 'delta_season_rush_touchdown_redzone', 'delta_season_rush_attempts_gtg', 'delta_season_rush_touchdown_gtg', 'delta_season_fantasy_points_ppr', 'delta_season_fantasy_points_standard', 'delta_season_offense_snaps', 'delta_season_team_offense_snaps', 'delta_season_total_tds', 'delta_season_touches', 'delta_season_total_yards', 'delta_career_shotgun', 'delta_career_no_huddle', 'delta_career_qb_dropback', 'delta_career_qb_scramble', 'delta_career_pass_attempts', 'delta_career_complete_pass', 'delta_career_incomplete_pass', 'delta_career_passing_yards', 'delta_career_receiving_yards', 'delta_career_yards_after_catch', 'delta_career_rush_attempts', 'delta_career_rushing_yards', 'delta_career_tackled_for_loss', 'delta_career_first_down_pass', 'delta_career_first_down_rush', 'delta_career_third_down_converted', 'delta_career_third_down_failed', 'delta_career_fourth_down_converted', 'delta_career_fourth_down_failed', 'delta_career_rush_touchdown', 'delta_career_pass_touchdown', 'delta_career_safety', 'delta_career_interception', 'delta_career_fumble', 'delta_career_fumble_lost', 'delta_career_fumble_forced', 'delta_career_fumble_not_forced', 'delta_career_fumble_out_of_bounds', 'delta_career_receptions', 'delta_career_targets', 'delta_career_passing_air_yards', 'delta_career_receiving_air_yards', 'delta_career_receiving_touchdown', 'delta_career_pass_attempts_redzone', 'delta_career_complete_pass_redzone', 'delta_career_pass_touchdown_redzone', 'delta_career_pass_attempts_gtg', 'delta_career_complete_pass_gtg', 'delta_career_pass_touchdown_gtg', 'delta_career_receptions_redzone', 'delta_career_targets_redzone', 'delta_career_receiving_touchdown_redzone', 'delta_career_receptions_gtg', 'delta_career_targets_gtg', 'delta_career_receiving_touchdown_gtg', 'delta_career_rush_attempts_redzone', 'delta_career_rush_touchdown_redzone', 'delta_career_rush_attempts_gtg', 'delta_career_rush_touchdown_gtg', 'delta_career_fantasy_points_ppr', 'delta_career_fantasy_points_standard', 'delta_career_offense_snaps', 'delta_career_team_offense_snaps', 'delta_career_total_tds', 'delta_career_touches', 'delta_career_total_yards', 'delta_season_average_shotgun', 'delta_career_average_shotgun', 'delta_season_average_no_huddle', 'delta_career_average_no_huddle', 'delta_season_average_qb_dropback', 'delta_career_average_qb_dropback', 'delta_season_average_qb_scramble', 'delta_career_average_qb_scramble', 'delta_season_average_pass_attempts', 'delta_career_average_pass_attempts', 'delta_season_average_complete_pass', 'delta_career_average_complete_pass', 'delta_season_average_incomplete_pass', 'delta_career_average_incomplete_pass', 'delta_season_average_passing_yards', 'delta_career_average_passing_yards', 'delta_season_average_receiving_yards', 'delta_career_average_receiving_yards', 'delta_season_average_yards_after_catch', 'delta_career_average_yards_after_catch', 'delta_season_average_rush_attempts', 'delta_career_average_rush_attempts', 'delta_season_average_rushing_yards', 'delta_career_average_rushing_yards', 'delta_season_average_tackled_for_loss', 'delta_career_average_tackled_for_loss', 'delta_season_average_first_down_pass', 'delta_career_average_first_down_pass', 'delta_season_average_first_down_rush', 'delta_career_average_first_down_rush', 'delta_season_average_third_down_converted', 'delta_career_average_third_down_converted', 'delta_season_average_third_down_failed', 'delta_career_average_third_down_failed', 'delta_season_average_fourth_down_converted', 'delta_career_average_fourth_down_converted', 'delta_season_average_fourth_down_failed', 'delta_career_average_fourth_down_failed', 'delta_season_average_rush_touchdown', 'delta_career_average_rush_touchdown', 'delta_season_average_pass_touchdown', 'delta_career_average_pass_touchdown', 'delta_season_average_safety', 'delta_career_average_safety', 'delta_season_average_interception', 'delta_career_average_interception', 'delta_season_average_fumble', 'delta_career_average_fumble', 'delta_season_average_fumble_lost', 'delta_career_average_fumble_lost', 'delta_season_average_fumble_forced', 'delta_career_average_fumble_forced', 'delta_season_average_fumble_not_forced', 'delta_career_average_fumble_not_forced', 'delta_season_average_fumble_out_of_bounds', 'delta_career_average_fumble_out_of_bounds', 'delta_season_average_receptions', 'delta_career_average_receptions', 'delta_season_average_targets', 'delta_career_average_targets', 'delta_season_average_passing_air_yards', 'delta_career_average_passing_air_yards', 'delta_season_average_receiving_air_yards', 'delta_career_average_receiving_air_yards', 'delta_season_average_receiving_touchdown', 'delta_career_average_receiving_touchdown', 'delta_season_average_pass_attempts_redzone', 'delta_career_average_pass_attempts_redzone', 'delta_season_average_complete_pass_redzone', 'delta_career_average_complete_pass_redzone', 'delta_season_average_pass_touchdown_redzone', 'delta_career_average_pass_touchdown_redzone', 'delta_season_average_pass_attempts_gtg', 'delta_career_average_pass_attempts_gtg', 'delta_season_average_complete_pass_gtg', 'delta_career_average_complete_pass_gtg', 'delta_season_average_pass_touchdown_gtg', 'delta_career_average_pass_touchdown_gtg', 'delta_season_average_receptions_redzone', 'delta_career_average_receptions_redzone', 'delta_season_average_targets_redzone', 'delta_career_average_targets_redzone', 'delta_season_average_receiving_touchdown_redzone', 'delta_career_average_receiving_touchdown_redzone', 'delta_season_average_receptions_gtg', 'delta_career_average_receptions_gtg', 'delta_season_average_targets_gtg', 'delta_career_average_targets_gtg', 'delta_season_average_receiving_touchdown_gtg', 'delta_career_average_receiving_touchdown_gtg', 'delta_season_average_rush_attempts_redzone', 'delta_career_average_rush_attempts_redzone', 'delta_season_average_rush_touchdown_redzone', 'delta_career_average_rush_touchdown_redzone', 'delta_season_average_rush_attempts_gtg', 'delta_career_average_rush_attempts_gtg', 'delta_season_average_rush_touchdown_gtg', 'delta_career_average_rush_touchdown_gtg', 'delta_season_average_fantasy_points_ppr', 'delta_career_average_fantasy_points_ppr', 'delta_season_average_fantasy_points_standard', 'delta_career_average_fantasy_points_standard', 'delta_season_average_offense_snaps', 'delta_career_average_offense_snaps', 'delta_season_average_team_offense_snaps', 'delta_career_average_team_offense_snaps', 'delta_season_average_total_tds', 'delta_career_average_total_tds', 'delta_season_average_touches', 'delta_career_average_touches', 'delta_season_average_total_yards', 'delta_career_average_total_yards', 'delta_season_comp_pct', 'delta_season_int_pct', 'delta_season_pass_touchdown_pct', 'delta_season_ypa', 'delta_season_rec_td_pct', 'delta_season_yptarget', 'delta_season_ypr', 'delta_season_rush_td_pct', 'delta_season_ypc', 'delta_season_td_pct', 'delta_season_yptouch', 'delta_season_pass_ypg', 'delta_season_rec_ypg', 'delta_season_rush_ypg', 'delta_season_ypg', 'delta_season_average_ppr_ppg', 'delta_season_average_standard_ppg', 'delta_career_comp_pct', 'delta_career_int_pct', 'delta_career_pass_touchdown_pct', 'delta_career_ypa', 'delta_career_rec_td_pct', 'delta_career_yptarget', 'delta_career_ypr', 'delta_career_rush_td_pct', 'delta_career_ypc', 'delta_career_td_pct', 'delta_career_yptouch', 'delta_career_pass_ypg', 'delta_career_rec_ypg', 'delta_career_rush_ypg', 'delta_career_ypg', 'delta_career_average_ppr_ppg', 'delta_career_average_standard_ppg', 'delta_team_pass_attempts_share', 'delta_team_complete_pass_share', 'delta_team_passing_yards_share', 'delta_team_receiving_yards_share', 'delta_team_rush_attempts_share', 'delta_team_rush_touchdown_share', 'delta_passer_rating', 'delta_comp_pct', 'delta_int_pct', 'delta_pass_td_pct', 'delta_ypa', 'delta_yptarget', 'delta_ypr', 'delta_rush_td_pct', 'delta_ypc', 'delta_td_pct', 'delta_yptouch']\n"
     ]
    }
   ],
   "source": [
    "import pandas as pd \n",
    "path = path.replace(\"\\\\\", \"/\")  # For Windows compatibility\n",
    "df = pd.read_csv(f\"{path}\\\\yearly_player_stats_offense.csv\")\n",
    "\n",
    "print(df.head())\n",
    "column_names_list = df.columns.tolist()\n",
    "print(\"\\nColumn names (Python list):\")\n",
    "print(column_names_list)\n",
    "\n"
   ]
  },
  {
   "cell_type": "markdown",
   "id": "747dfc19",
   "metadata": {},
   "source": [
    "### need to remove fantasy point data"
   ]
  },
  {
   "cell_type": "code",
   "execution_count": null,
   "id": "48c35c20",
   "metadata": {},
   "outputs": [],
   "source": [
    "keyword = 'fantasy'\n",
    "cols_to_drop = df.filter(regex=keyword).columns\n",
    "df_filtered = df.drop(columns=cols_to_drop)"
   ]
  },
  {
   "cell_type": "code",
   "execution_count": null,
   "id": "ca985bcf",
   "metadata": {},
   "outputs": [
    {
     "name": "stdout",
     "output_type": "stream",
     "text": [
      "640\n"
     ]
    }
   ],
   "source": []
  }
 ],
 "metadata": {
  "kernelspec": {
   "display_name": "Python 3",
   "language": "python",
   "name": "python3"
  },
  "language_info": {
   "codemirror_mode": {
    "name": "ipython",
    "version": 3
   },
   "file_extension": ".py",
   "mimetype": "text/x-python",
   "name": "python",
   "nbconvert_exporter": "python",
   "pygments_lexer": "ipython3",
   "version": "3.11.9"
  }
 },
 "nbformat": 4,
 "nbformat_minor": 5
}
